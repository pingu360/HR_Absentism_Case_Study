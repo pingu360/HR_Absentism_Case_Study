{
 "cells": [
  {
   "cell_type": "code",
   "execution_count": 268,
   "id": "7916afd1",
   "metadata": {},
   "outputs": [],
   "source": [
    "import numpy as np\n",
    "import pandas as pd\n",
    "import matplotlib.pyplot as plt\n",
    "import seaborn as sns"
   ]
  },
  {
   "cell_type": "markdown",
   "id": "c7c205ed",
   "metadata": {},
   "source": [
    "## Load Data"
   ]
  },
  {
   "cell_type": "code",
   "execution_count": 269,
   "id": "14ffc592",
   "metadata": {},
   "outputs": [],
   "source": [
    "df = pd.read_csv('df_preprocessed.csv')\n",
    "df = df.drop('Absenteeism Time in Hours',axis = 1)"
   ]
  },
  {
   "cell_type": "code",
   "execution_count": 270,
   "id": "1f6ece37",
   "metadata": {},
   "outputs": [
    {
     "data": {
      "text/html": [
       "<div>\n",
       "<style scoped>\n",
       "    .dataframe tbody tr th:only-of-type {\n",
       "        vertical-align: middle;\n",
       "    }\n",
       "\n",
       "    .dataframe tbody tr th {\n",
       "        vertical-align: top;\n",
       "    }\n",
       "\n",
       "    .dataframe thead th {\n",
       "        text-align: right;\n",
       "    }\n",
       "</style>\n",
       "<table border=\"1\" class=\"dataframe\">\n",
       "  <thead>\n",
       "    <tr style=\"text-align: right;\">\n",
       "      <th></th>\n",
       "      <th>Reason_1</th>\n",
       "      <th>Reason_2</th>\n",
       "      <th>Reason_3</th>\n",
       "      <th>Reason_4</th>\n",
       "      <th>Month Value</th>\n",
       "      <th>Day of the Week</th>\n",
       "      <th>Transportation Expense</th>\n",
       "      <th>Distance to Work</th>\n",
       "      <th>Age</th>\n",
       "      <th>Daily Work Load Average</th>\n",
       "      <th>Body Mass Index</th>\n",
       "      <th>Education</th>\n",
       "      <th>Children</th>\n",
       "      <th>Pets</th>\n",
       "      <th>absenteeism</th>\n",
       "    </tr>\n",
       "  </thead>\n",
       "  <tbody>\n",
       "    <tr>\n",
       "      <th>0</th>\n",
       "      <td>0</td>\n",
       "      <td>0</td>\n",
       "      <td>0</td>\n",
       "      <td>1</td>\n",
       "      <td>7</td>\n",
       "      <td>1</td>\n",
       "      <td>289</td>\n",
       "      <td>36</td>\n",
       "      <td>33</td>\n",
       "      <td>239.554</td>\n",
       "      <td>30</td>\n",
       "      <td>0</td>\n",
       "      <td>2</td>\n",
       "      <td>1</td>\n",
       "      <td>1</td>\n",
       "    </tr>\n",
       "    <tr>\n",
       "      <th>1</th>\n",
       "      <td>0</td>\n",
       "      <td>0</td>\n",
       "      <td>0</td>\n",
       "      <td>0</td>\n",
       "      <td>7</td>\n",
       "      <td>1</td>\n",
       "      <td>118</td>\n",
       "      <td>13</td>\n",
       "      <td>50</td>\n",
       "      <td>239.554</td>\n",
       "      <td>31</td>\n",
       "      <td>0</td>\n",
       "      <td>1</td>\n",
       "      <td>0</td>\n",
       "      <td>0</td>\n",
       "    </tr>\n",
       "    <tr>\n",
       "      <th>2</th>\n",
       "      <td>0</td>\n",
       "      <td>0</td>\n",
       "      <td>0</td>\n",
       "      <td>1</td>\n",
       "      <td>7</td>\n",
       "      <td>2</td>\n",
       "      <td>179</td>\n",
       "      <td>51</td>\n",
       "      <td>38</td>\n",
       "      <td>239.554</td>\n",
       "      <td>31</td>\n",
       "      <td>0</td>\n",
       "      <td>0</td>\n",
       "      <td>0</td>\n",
       "      <td>0</td>\n",
       "    </tr>\n",
       "    <tr>\n",
       "      <th>3</th>\n",
       "      <td>1</td>\n",
       "      <td>0</td>\n",
       "      <td>0</td>\n",
       "      <td>0</td>\n",
       "      <td>7</td>\n",
       "      <td>3</td>\n",
       "      <td>279</td>\n",
       "      <td>5</td>\n",
       "      <td>39</td>\n",
       "      <td>239.554</td>\n",
       "      <td>24</td>\n",
       "      <td>0</td>\n",
       "      <td>2</td>\n",
       "      <td>0</td>\n",
       "      <td>1</td>\n",
       "    </tr>\n",
       "    <tr>\n",
       "      <th>4</th>\n",
       "      <td>0</td>\n",
       "      <td>0</td>\n",
       "      <td>0</td>\n",
       "      <td>1</td>\n",
       "      <td>7</td>\n",
       "      <td>3</td>\n",
       "      <td>289</td>\n",
       "      <td>36</td>\n",
       "      <td>33</td>\n",
       "      <td>239.554</td>\n",
       "      <td>30</td>\n",
       "      <td>0</td>\n",
       "      <td>2</td>\n",
       "      <td>1</td>\n",
       "      <td>0</td>\n",
       "    </tr>\n",
       "    <tr>\n",
       "      <th>...</th>\n",
       "      <td>...</td>\n",
       "      <td>...</td>\n",
       "      <td>...</td>\n",
       "      <td>...</td>\n",
       "      <td>...</td>\n",
       "      <td>...</td>\n",
       "      <td>...</td>\n",
       "      <td>...</td>\n",
       "      <td>...</td>\n",
       "      <td>...</td>\n",
       "      <td>...</td>\n",
       "      <td>...</td>\n",
       "      <td>...</td>\n",
       "      <td>...</td>\n",
       "      <td>...</td>\n",
       "    </tr>\n",
       "    <tr>\n",
       "      <th>695</th>\n",
       "      <td>1</td>\n",
       "      <td>0</td>\n",
       "      <td>0</td>\n",
       "      <td>0</td>\n",
       "      <td>5</td>\n",
       "      <td>2</td>\n",
       "      <td>179</td>\n",
       "      <td>22</td>\n",
       "      <td>40</td>\n",
       "      <td>237.656</td>\n",
       "      <td>22</td>\n",
       "      <td>1</td>\n",
       "      <td>2</td>\n",
       "      <td>0</td>\n",
       "      <td>1</td>\n",
       "    </tr>\n",
       "    <tr>\n",
       "      <th>696</th>\n",
       "      <td>1</td>\n",
       "      <td>0</td>\n",
       "      <td>0</td>\n",
       "      <td>0</td>\n",
       "      <td>5</td>\n",
       "      <td>2</td>\n",
       "      <td>225</td>\n",
       "      <td>26</td>\n",
       "      <td>28</td>\n",
       "      <td>237.656</td>\n",
       "      <td>24</td>\n",
       "      <td>0</td>\n",
       "      <td>1</td>\n",
       "      <td>2</td>\n",
       "      <td>0</td>\n",
       "    </tr>\n",
       "    <tr>\n",
       "      <th>697</th>\n",
       "      <td>1</td>\n",
       "      <td>0</td>\n",
       "      <td>0</td>\n",
       "      <td>0</td>\n",
       "      <td>5</td>\n",
       "      <td>3</td>\n",
       "      <td>330</td>\n",
       "      <td>16</td>\n",
       "      <td>28</td>\n",
       "      <td>237.656</td>\n",
       "      <td>25</td>\n",
       "      <td>1</td>\n",
       "      <td>0</td>\n",
       "      <td>0</td>\n",
       "      <td>1</td>\n",
       "    </tr>\n",
       "    <tr>\n",
       "      <th>698</th>\n",
       "      <td>0</td>\n",
       "      <td>0</td>\n",
       "      <td>0</td>\n",
       "      <td>1</td>\n",
       "      <td>5</td>\n",
       "      <td>3</td>\n",
       "      <td>235</td>\n",
       "      <td>16</td>\n",
       "      <td>32</td>\n",
       "      <td>237.656</td>\n",
       "      <td>25</td>\n",
       "      <td>1</td>\n",
       "      <td>0</td>\n",
       "      <td>0</td>\n",
       "      <td>0</td>\n",
       "    </tr>\n",
       "    <tr>\n",
       "      <th>699</th>\n",
       "      <td>0</td>\n",
       "      <td>0</td>\n",
       "      <td>0</td>\n",
       "      <td>1</td>\n",
       "      <td>5</td>\n",
       "      <td>3</td>\n",
       "      <td>291</td>\n",
       "      <td>31</td>\n",
       "      <td>40</td>\n",
       "      <td>237.656</td>\n",
       "      <td>25</td>\n",
       "      <td>0</td>\n",
       "      <td>1</td>\n",
       "      <td>1</td>\n",
       "      <td>0</td>\n",
       "    </tr>\n",
       "  </tbody>\n",
       "</table>\n",
       "<p>700 rows × 15 columns</p>\n",
       "</div>"
      ],
      "text/plain": [
       "     Reason_1  Reason_2  Reason_3  Reason_4  Month Value  Day of the Week  \\\n",
       "0           0         0         0         1            7                1   \n",
       "1           0         0         0         0            7                1   \n",
       "2           0         0         0         1            7                2   \n",
       "3           1         0         0         0            7                3   \n",
       "4           0         0         0         1            7                3   \n",
       "..        ...       ...       ...       ...          ...              ...   \n",
       "695         1         0         0         0            5                2   \n",
       "696         1         0         0         0            5                2   \n",
       "697         1         0         0         0            5                3   \n",
       "698         0         0         0         1            5                3   \n",
       "699         0         0         0         1            5                3   \n",
       "\n",
       "     Transportation Expense  Distance to Work  Age  Daily Work Load Average  \\\n",
       "0                       289                36   33                  239.554   \n",
       "1                       118                13   50                  239.554   \n",
       "2                       179                51   38                  239.554   \n",
       "3                       279                 5   39                  239.554   \n",
       "4                       289                36   33                  239.554   \n",
       "..                      ...               ...  ...                      ...   \n",
       "695                     179                22   40                  237.656   \n",
       "696                     225                26   28                  237.656   \n",
       "697                     330                16   28                  237.656   \n",
       "698                     235                16   32                  237.656   \n",
       "699                     291                31   40                  237.656   \n",
       "\n",
       "     Body Mass Index  Education  Children  Pets  absenteeism  \n",
       "0                 30          0         2     1            1  \n",
       "1                 31          0         1     0            0  \n",
       "2                 31          0         0     0            0  \n",
       "3                 24          0         2     0            1  \n",
       "4                 30          0         2     1            0  \n",
       "..               ...        ...       ...   ...          ...  \n",
       "695               22          1         2     0            1  \n",
       "696               24          0         1     2            0  \n",
       "697               25          1         0     0            1  \n",
       "698               25          1         0     0            0  \n",
       "699               25          0         1     1            0  \n",
       "\n",
       "[700 rows x 15 columns]"
      ]
     },
     "execution_count": 270,
     "metadata": {},
     "output_type": "execute_result"
    }
   ],
   "source": [
    "df"
   ]
  },
  {
   "cell_type": "markdown",
   "id": "f27d0cde",
   "metadata": {},
   "source": [
    "## Balance the Target Value"
   ]
  },
  {
   "cell_type": "code",
   "execution_count": 271,
   "id": "1bbb0f28",
   "metadata": {},
   "outputs": [
    {
     "data": {
      "text/plain": [
       "0    381\n",
       "1    319\n",
       "Name: absenteeism, dtype: int64"
      ]
     },
     "execution_count": 271,
     "metadata": {},
     "output_type": "execute_result"
    }
   ],
   "source": [
    "df['absenteeism'].value_counts()"
   ]
  },
  {
   "cell_type": "code",
   "execution_count": 272,
   "id": "b4da5981",
   "metadata": {},
   "outputs": [
    {
     "data": {
      "text/plain": [
       "0.45571428571428574"
      ]
     },
     "execution_count": 272,
     "metadata": {},
     "output_type": "execute_result"
    }
   ],
   "source": [
    "319/(381+319)"
   ]
  },
  {
   "cell_type": "code",
   "execution_count": 273,
   "id": "befc47fe",
   "metadata": {},
   "outputs": [
    {
     "data": {
      "text/plain": [
       "0.5442857142857143"
      ]
     },
     "execution_count": 273,
     "metadata": {},
     "output_type": "execute_result"
    }
   ],
   "source": [
    "381/(381+319)"
   ]
  },
  {
   "cell_type": "markdown",
   "id": "48836c04",
   "metadata": {},
   "source": [
    "## Scale the  Numerical Data"
   ]
  },
  {
   "cell_type": "code",
   "execution_count": 274,
   "id": "52d9eaf9",
   "metadata": {},
   "outputs": [],
   "source": [
    "## We just want to scale the numerical coiumns\n",
    "columns_to_scale_1 = ['Month Value', 'Day of the Week', 'Transportation Expense',\n",
    "       'Distance to Work', 'Age', 'Daily Work Load Average', 'Body Mass Index',\n",
    "       'Children', 'Pets']"
   ]
  },
  {
   "cell_type": "code",
   "execution_count": 275,
   "id": "0b42096b",
   "metadata": {},
   "outputs": [],
   "source": [
    "from sklearn.preprocessing import StandardScaler"
   ]
  },
  {
   "cell_type": "code",
   "execution_count": 276,
   "id": "dbcd5cb5",
   "metadata": {},
   "outputs": [
    {
     "data": {
      "text/plain": [
       "Index(['Month Value', 'Day of the Week', 'Transportation Expense',\n",
       "       'Distance to Work', 'Age', 'Daily Work Load Average', 'Body Mass Index',\n",
       "       'Education', 'Children', 'Pets'],\n",
       "      dtype='object')"
      ]
     },
     "execution_count": 276,
     "metadata": {},
     "output_type": "execute_result"
    }
   ],
   "source": [
    "df.iloc[:,4:-1].columns[:]"
   ]
  },
  {
   "cell_type": "code",
   "execution_count": 277,
   "id": "61539867",
   "metadata": {},
   "outputs": [],
   "source": [
    "# Create the StandardScaler object\n",
    "scaler = StandardScaler()\n",
    "scaler.fit(df[columns_to_scale_1])\n",
    "df_preprocessed = df.copy()\n",
    "# Scale the selected columns\n",
    "df[columns_to_scale_1] = scaler.transform(df[columns_to_scale_1])"
   ]
  },
  {
   "cell_type": "code",
   "execution_count": 279,
   "id": "a6fc2ab3",
   "metadata": {},
   "outputs": [
    {
     "name": "stdout",
     "output_type": "stream",
     "text": [
      "Mean: [  6.36         2.01142857 222.34714286  29.89285714  36.41714286\n",
      " 271.80177429  26.73714286   1.02142857   0.68714286]\n",
      "Variance: [1.22675429e+01 2.18844082e+00 4.39112663e+03 2.18858520e+02\n",
      " 4.06345633e+01 1.59945660e+03 1.80766204e+01 1.23525510e+00\n",
      " 1.35783469e+00]\n",
      "Scale: [ 3.50250523  1.47933797 66.26557654 14.79386766  6.37452455 39.99320696\n",
      "  4.2516609   1.11142031  1.16526164]\n",
      "Number of samples seen: 700\n",
      "feature names: ['Month Value' 'Day of the Week' 'Transportation Expense'\n",
      " 'Distance to Work' 'Age' 'Daily Work Load Average' 'Body Mass Index'\n",
      " 'Children' 'Pets']\n"
     ]
    }
   ],
   "source": [
    "print(\"Mean:\", scaler.mean_)\n",
    "print(\"Variance:\", scaler.var_)\n",
    "print(\"Scale:\", scaler.scale_)\n",
    "print(\"Number of samples seen:\", scaler.n_samples_seen_)\n",
    "print(\"feature names:\", scaler.get_feature_names_out())"
   ]
  },
  {
   "cell_type": "markdown",
   "id": "9ed36df6",
   "metadata": {},
   "source": [
    "## Build the ML Model"
   ]
  },
  {
   "cell_type": "code",
   "execution_count": 280,
   "id": "318ecd10",
   "metadata": {},
   "outputs": [],
   "source": [
    "from sklearn.linear_model import LogisticRegression\n",
    "from sklearn.model_selection import train_test_split\n",
    "from sklearn.metrics import accuracy_score"
   ]
  },
  {
   "cell_type": "code",
   "execution_count": 281,
   "id": "0f70c0d4",
   "metadata": {},
   "outputs": [],
   "source": [
    "y = df['absenteeism']\n",
    "X = df.drop('absenteeism',axis = 1)"
   ]
  },
  {
   "cell_type": "code",
   "execution_count": 282,
   "id": "8962c596",
   "metadata": {},
   "outputs": [],
   "source": [
    "X_train, X_test, y_train, y_test = train_test_split(X, y, test_size=0.2, random_state=42)"
   ]
  },
  {
   "cell_type": "code",
   "execution_count": 283,
   "id": "09fbf46c",
   "metadata": {},
   "outputs": [],
   "source": [
    "logreg = LogisticRegression()"
   ]
  },
  {
   "cell_type": "code",
   "execution_count": 284,
   "id": "60d04866",
   "metadata": {},
   "outputs": [
    {
     "data": {
      "text/html": [
       "<style>#sk-container-id-17 {color: black;background-color: white;}#sk-container-id-17 pre{padding: 0;}#sk-container-id-17 div.sk-toggleable {background-color: white;}#sk-container-id-17 label.sk-toggleable__label {cursor: pointer;display: block;width: 100%;margin-bottom: 0;padding: 0.3em;box-sizing: border-box;text-align: center;}#sk-container-id-17 label.sk-toggleable__label-arrow:before {content: \"▸\";float: left;margin-right: 0.25em;color: #696969;}#sk-container-id-17 label.sk-toggleable__label-arrow:hover:before {color: black;}#sk-container-id-17 div.sk-estimator:hover label.sk-toggleable__label-arrow:before {color: black;}#sk-container-id-17 div.sk-toggleable__content {max-height: 0;max-width: 0;overflow: hidden;text-align: left;background-color: #f0f8ff;}#sk-container-id-17 div.sk-toggleable__content pre {margin: 0.2em;color: black;border-radius: 0.25em;background-color: #f0f8ff;}#sk-container-id-17 input.sk-toggleable__control:checked~div.sk-toggleable__content {max-height: 200px;max-width: 100%;overflow: auto;}#sk-container-id-17 input.sk-toggleable__control:checked~label.sk-toggleable__label-arrow:before {content: \"▾\";}#sk-container-id-17 div.sk-estimator input.sk-toggleable__control:checked~label.sk-toggleable__label {background-color: #d4ebff;}#sk-container-id-17 div.sk-label input.sk-toggleable__control:checked~label.sk-toggleable__label {background-color: #d4ebff;}#sk-container-id-17 input.sk-hidden--visually {border: 0;clip: rect(1px 1px 1px 1px);clip: rect(1px, 1px, 1px, 1px);height: 1px;margin: -1px;overflow: hidden;padding: 0;position: absolute;width: 1px;}#sk-container-id-17 div.sk-estimator {font-family: monospace;background-color: #f0f8ff;border: 1px dotted black;border-radius: 0.25em;box-sizing: border-box;margin-bottom: 0.5em;}#sk-container-id-17 div.sk-estimator:hover {background-color: #d4ebff;}#sk-container-id-17 div.sk-parallel-item::after {content: \"\";width: 100%;border-bottom: 1px solid gray;flex-grow: 1;}#sk-container-id-17 div.sk-label:hover label.sk-toggleable__label {background-color: #d4ebff;}#sk-container-id-17 div.sk-serial::before {content: \"\";position: absolute;border-left: 1px solid gray;box-sizing: border-box;top: 0;bottom: 0;left: 50%;z-index: 0;}#sk-container-id-17 div.sk-serial {display: flex;flex-direction: column;align-items: center;background-color: white;padding-right: 0.2em;padding-left: 0.2em;position: relative;}#sk-container-id-17 div.sk-item {position: relative;z-index: 1;}#sk-container-id-17 div.sk-parallel {display: flex;align-items: stretch;justify-content: center;background-color: white;position: relative;}#sk-container-id-17 div.sk-item::before, #sk-container-id-17 div.sk-parallel-item::before {content: \"\";position: absolute;border-left: 1px solid gray;box-sizing: border-box;top: 0;bottom: 0;left: 50%;z-index: -1;}#sk-container-id-17 div.sk-parallel-item {display: flex;flex-direction: column;z-index: 1;position: relative;background-color: white;}#sk-container-id-17 div.sk-parallel-item:first-child::after {align-self: flex-end;width: 50%;}#sk-container-id-17 div.sk-parallel-item:last-child::after {align-self: flex-start;width: 50%;}#sk-container-id-17 div.sk-parallel-item:only-child::after {width: 0;}#sk-container-id-17 div.sk-dashed-wrapped {border: 1px dashed gray;margin: 0 0.4em 0.5em 0.4em;box-sizing: border-box;padding-bottom: 0.4em;background-color: white;}#sk-container-id-17 div.sk-label label {font-family: monospace;font-weight: bold;display: inline-block;line-height: 1.2em;}#sk-container-id-17 div.sk-label-container {text-align: center;}#sk-container-id-17 div.sk-container {/* jupyter's `normalize.less` sets `[hidden] { display: none; }` but bootstrap.min.css set `[hidden] { display: none !important; }` so we also need the `!important` here to be able to override the default hidden behavior on the sphinx rendered scikit-learn.org. See: https://github.com/scikit-learn/scikit-learn/issues/21755 */display: inline-block !important;position: relative;}#sk-container-id-17 div.sk-text-repr-fallback {display: none;}</style><div id=\"sk-container-id-17\" class=\"sk-top-container\"><div class=\"sk-text-repr-fallback\"><pre>LogisticRegression()</pre><b>In a Jupyter environment, please rerun this cell to show the HTML representation or trust the notebook. <br />On GitHub, the HTML representation is unable to render, please try loading this page with nbviewer.org.</b></div><div class=\"sk-container\" hidden><div class=\"sk-item\"><div class=\"sk-estimator sk-toggleable\"><input class=\"sk-toggleable__control sk-hidden--visually\" id=\"sk-estimator-id-17\" type=\"checkbox\" checked><label for=\"sk-estimator-id-17\" class=\"sk-toggleable__label sk-toggleable__label-arrow\">LogisticRegression</label><div class=\"sk-toggleable__content\"><pre>LogisticRegression()</pre></div></div></div></div></div>"
      ],
      "text/plain": [
       "LogisticRegression()"
      ]
     },
     "execution_count": 284,
     "metadata": {},
     "output_type": "execute_result"
    }
   ],
   "source": [
    "logreg.fit(X_train, y_train)"
   ]
  },
  {
   "cell_type": "code",
   "execution_count": 285,
   "id": "7c3db95d",
   "metadata": {},
   "outputs": [
    {
     "data": {
      "text/plain": [
       "0.7678571428571429"
      ]
     },
     "execution_count": 285,
     "metadata": {},
     "output_type": "execute_result"
    }
   ],
   "source": [
    "logreg.score(X_train, y_train)"
   ]
  },
  {
   "cell_type": "markdown",
   "id": "576af480",
   "metadata": {},
   "source": [
    "## Summary Table"
   ]
  },
  {
   "cell_type": "code",
   "execution_count": 286,
   "id": "9adef80a",
   "metadata": {},
   "outputs": [],
   "source": [
    "# Create a summary table\n",
    "coefficients = logreg.coef_\n",
    "intercept = logreg.intercept_\n",
    "feature_name = columns_to_scale"
   ]
  },
  {
   "cell_type": "code",
   "execution_count": 287,
   "id": "29b51b64",
   "metadata": {},
   "outputs": [],
   "source": [
    "summary_table = pd.DataFrame(coefficients, columns = X.columns)\n",
    "summary_table['Intercept'] = intercept\n",
    "summary_table = summary_table.transpose()"
   ]
  },
  {
   "cell_type": "code",
   "execution_count": 288,
   "id": "217101a3",
   "metadata": {},
   "outputs": [],
   "source": [
    "summary_table['Odds_ratio'] = np.exp(summary_table[0])"
   ]
  },
  {
   "cell_type": "code",
   "execution_count": 289,
   "id": "4e305a45",
   "metadata": {},
   "outputs": [],
   "source": [
    "summary_table = summary_table.rename(columns={0 : 'coefficients'})"
   ]
  },
  {
   "cell_type": "code",
   "execution_count": 290,
   "id": "476a0748",
   "metadata": {},
   "outputs": [],
   "source": [
    "summary_table = summary_table.sort_values(by='coefficients', ascending=False)"
   ]
  },
  {
   "cell_type": "code",
   "execution_count": 291,
   "id": "61b51a8e",
   "metadata": {},
   "outputs": [
    {
     "data": {
      "text/html": [
       "<div>\n",
       "<style scoped>\n",
       "    .dataframe tbody tr th:only-of-type {\n",
       "        vertical-align: middle;\n",
       "    }\n",
       "\n",
       "    .dataframe tbody tr th {\n",
       "        vertical-align: top;\n",
       "    }\n",
       "\n",
       "    .dataframe thead th {\n",
       "        text-align: right;\n",
       "    }\n",
       "</style>\n",
       "<table border=\"1\" class=\"dataframe\">\n",
       "  <thead>\n",
       "    <tr style=\"text-align: right;\">\n",
       "      <th></th>\n",
       "      <th>coefficients</th>\n",
       "      <th>Odds_ratio</th>\n",
       "    </tr>\n",
       "  </thead>\n",
       "  <tbody>\n",
       "    <tr>\n",
       "      <th>Reason_3</th>\n",
       "      <td>3.071973</td>\n",
       "      <td>21.584445</td>\n",
       "    </tr>\n",
       "    <tr>\n",
       "      <th>Reason_1</th>\n",
       "      <td>2.928834</td>\n",
       "      <td>18.705810</td>\n",
       "    </tr>\n",
       "    <tr>\n",
       "      <th>Reason_4</th>\n",
       "      <td>0.994322</td>\n",
       "      <td>2.702890</td>\n",
       "    </tr>\n",
       "    <tr>\n",
       "      <th>Reason_2</th>\n",
       "      <td>0.732911</td>\n",
       "      <td>2.081130</td>\n",
       "    </tr>\n",
       "    <tr>\n",
       "      <th>Transportation Expense</th>\n",
       "      <td>0.674526</td>\n",
       "      <td>1.963103</td>\n",
       "    </tr>\n",
       "    <tr>\n",
       "      <th>Children</th>\n",
       "      <td>0.418180</td>\n",
       "      <td>1.519193</td>\n",
       "    </tr>\n",
       "    <tr>\n",
       "      <th>Body Mass Index</th>\n",
       "      <td>0.245360</td>\n",
       "      <td>1.278081</td>\n",
       "    </tr>\n",
       "    <tr>\n",
       "      <th>Month Value</th>\n",
       "      <td>0.079737</td>\n",
       "      <td>1.083002</td>\n",
       "    </tr>\n",
       "    <tr>\n",
       "      <th>Daily Work Load Average</th>\n",
       "      <td>-0.020752</td>\n",
       "      <td>0.979462</td>\n",
       "    </tr>\n",
       "    <tr>\n",
       "      <th>Distance to Work</th>\n",
       "      <td>-0.056784</td>\n",
       "      <td>0.944798</td>\n",
       "    </tr>\n",
       "    <tr>\n",
       "      <th>Day of the Week</th>\n",
       "      <td>-0.158204</td>\n",
       "      <td>0.853675</td>\n",
       "    </tr>\n",
       "    <tr>\n",
       "      <th>Age</th>\n",
       "      <td>-0.257761</td>\n",
       "      <td>0.772780</td>\n",
       "    </tr>\n",
       "    <tr>\n",
       "      <th>Education</th>\n",
       "      <td>-0.268176</td>\n",
       "      <td>0.764773</td>\n",
       "    </tr>\n",
       "    <tr>\n",
       "      <th>Pets</th>\n",
       "      <td>-0.311343</td>\n",
       "      <td>0.732463</td>\n",
       "    </tr>\n",
       "    <tr>\n",
       "      <th>Intercept</th>\n",
       "      <td>-1.712398</td>\n",
       "      <td>0.180433</td>\n",
       "    </tr>\n",
       "  </tbody>\n",
       "</table>\n",
       "</div>"
      ],
      "text/plain": [
       "                         coefficients  Odds_ratio\n",
       "Reason_3                     3.071973   21.584445\n",
       "Reason_1                     2.928834   18.705810\n",
       "Reason_4                     0.994322    2.702890\n",
       "Reason_2                     0.732911    2.081130\n",
       "Transportation Expense       0.674526    1.963103\n",
       "Children                     0.418180    1.519193\n",
       "Body Mass Index              0.245360    1.278081\n",
       "Month Value                  0.079737    1.083002\n",
       "Daily Work Load Average     -0.020752    0.979462\n",
       "Distance to Work            -0.056784    0.944798\n",
       "Day of the Week             -0.158204    0.853675\n",
       "Age                         -0.257761    0.772780\n",
       "Education                   -0.268176    0.764773\n",
       "Pets                        -0.311343    0.732463\n",
       "Intercept                   -1.712398    0.180433"
      ]
     },
     "execution_count": 291,
     "metadata": {},
     "output_type": "execute_result"
    }
   ],
   "source": [
    "summary_table "
   ]
  },
  {
   "cell_type": "markdown",
   "id": "09cb7db8",
   "metadata": {},
   "source": [
    "## Explanation of The Summary Table\n",
    "- 類別型變數:當Reason_3發生時，發生高缺席事件的機率是Reason_3沒發生的21倍\n",
    "- 順序型型變數:當寵物數量增加一單位時，發生高缺席事件的機率降約27%\n",
    "- 勝率比接近1的Features，代表不影響Target"
   ]
  },
  {
   "cell_type": "markdown",
   "id": "842d70cc",
   "metadata": {},
   "source": [
    "## Backward Elimination for Model"
   ]
  },
  {
   "cell_type": "code",
   "execution_count": 292,
   "id": "e9af3b66",
   "metadata": {},
   "outputs": [
    {
     "data": {
      "text/plain": [
       "Index(['Reason_3', 'Reason_1', 'Reason_4', 'Reason_2',\n",
       "       'Transportation Expense', 'Children', 'Body Mass Index', 'Month Value',\n",
       "       'Daily Work Load Average', 'Distance to Work', 'Day of the Week', 'Age',\n",
       "       'Education', 'Pets', 'Intercept'],\n",
       "      dtype='object')"
      ]
     },
     "execution_count": 292,
     "metadata": {},
     "output_type": "execute_result"
    }
   ],
   "source": [
    "summary_table.index"
   ]
  },
  {
   "cell_type": "code",
   "execution_count": 293,
   "id": "de37d113",
   "metadata": {},
   "outputs": [],
   "source": [
    "columns_to_drop = ['Body Mass Index', 'Month Value',\n",
    "       'Daily Work Load Average', 'Distance to Work', 'Education',\n",
    "       'Day of the Week']"
   ]
  },
  {
   "cell_type": "code",
   "execution_count": 294,
   "id": "2de2f591",
   "metadata": {},
   "outputs": [],
   "source": [
    "X_train_simplified = X_train.drop(labels = columns_to_drop, axis = 1 )"
   ]
  },
  {
   "cell_type": "code",
   "execution_count": 295,
   "id": "02a8d9e1",
   "metadata": {},
   "outputs": [],
   "source": [
    "logreg_simplified = LogisticRegression()"
   ]
  },
  {
   "cell_type": "code",
   "execution_count": 296,
   "id": "88ca24bf",
   "metadata": {},
   "outputs": [
    {
     "data": {
      "text/html": [
       "<style>#sk-container-id-18 {color: black;background-color: white;}#sk-container-id-18 pre{padding: 0;}#sk-container-id-18 div.sk-toggleable {background-color: white;}#sk-container-id-18 label.sk-toggleable__label {cursor: pointer;display: block;width: 100%;margin-bottom: 0;padding: 0.3em;box-sizing: border-box;text-align: center;}#sk-container-id-18 label.sk-toggleable__label-arrow:before {content: \"▸\";float: left;margin-right: 0.25em;color: #696969;}#sk-container-id-18 label.sk-toggleable__label-arrow:hover:before {color: black;}#sk-container-id-18 div.sk-estimator:hover label.sk-toggleable__label-arrow:before {color: black;}#sk-container-id-18 div.sk-toggleable__content {max-height: 0;max-width: 0;overflow: hidden;text-align: left;background-color: #f0f8ff;}#sk-container-id-18 div.sk-toggleable__content pre {margin: 0.2em;color: black;border-radius: 0.25em;background-color: #f0f8ff;}#sk-container-id-18 input.sk-toggleable__control:checked~div.sk-toggleable__content {max-height: 200px;max-width: 100%;overflow: auto;}#sk-container-id-18 input.sk-toggleable__control:checked~label.sk-toggleable__label-arrow:before {content: \"▾\";}#sk-container-id-18 div.sk-estimator input.sk-toggleable__control:checked~label.sk-toggleable__label {background-color: #d4ebff;}#sk-container-id-18 div.sk-label input.sk-toggleable__control:checked~label.sk-toggleable__label {background-color: #d4ebff;}#sk-container-id-18 input.sk-hidden--visually {border: 0;clip: rect(1px 1px 1px 1px);clip: rect(1px, 1px, 1px, 1px);height: 1px;margin: -1px;overflow: hidden;padding: 0;position: absolute;width: 1px;}#sk-container-id-18 div.sk-estimator {font-family: monospace;background-color: #f0f8ff;border: 1px dotted black;border-radius: 0.25em;box-sizing: border-box;margin-bottom: 0.5em;}#sk-container-id-18 div.sk-estimator:hover {background-color: #d4ebff;}#sk-container-id-18 div.sk-parallel-item::after {content: \"\";width: 100%;border-bottom: 1px solid gray;flex-grow: 1;}#sk-container-id-18 div.sk-label:hover label.sk-toggleable__label {background-color: #d4ebff;}#sk-container-id-18 div.sk-serial::before {content: \"\";position: absolute;border-left: 1px solid gray;box-sizing: border-box;top: 0;bottom: 0;left: 50%;z-index: 0;}#sk-container-id-18 div.sk-serial {display: flex;flex-direction: column;align-items: center;background-color: white;padding-right: 0.2em;padding-left: 0.2em;position: relative;}#sk-container-id-18 div.sk-item {position: relative;z-index: 1;}#sk-container-id-18 div.sk-parallel {display: flex;align-items: stretch;justify-content: center;background-color: white;position: relative;}#sk-container-id-18 div.sk-item::before, #sk-container-id-18 div.sk-parallel-item::before {content: \"\";position: absolute;border-left: 1px solid gray;box-sizing: border-box;top: 0;bottom: 0;left: 50%;z-index: -1;}#sk-container-id-18 div.sk-parallel-item {display: flex;flex-direction: column;z-index: 1;position: relative;background-color: white;}#sk-container-id-18 div.sk-parallel-item:first-child::after {align-self: flex-end;width: 50%;}#sk-container-id-18 div.sk-parallel-item:last-child::after {align-self: flex-start;width: 50%;}#sk-container-id-18 div.sk-parallel-item:only-child::after {width: 0;}#sk-container-id-18 div.sk-dashed-wrapped {border: 1px dashed gray;margin: 0 0.4em 0.5em 0.4em;box-sizing: border-box;padding-bottom: 0.4em;background-color: white;}#sk-container-id-18 div.sk-label label {font-family: monospace;font-weight: bold;display: inline-block;line-height: 1.2em;}#sk-container-id-18 div.sk-label-container {text-align: center;}#sk-container-id-18 div.sk-container {/* jupyter's `normalize.less` sets `[hidden] { display: none; }` but bootstrap.min.css set `[hidden] { display: none !important; }` so we also need the `!important` here to be able to override the default hidden behavior on the sphinx rendered scikit-learn.org. See: https://github.com/scikit-learn/scikit-learn/issues/21755 */display: inline-block !important;position: relative;}#sk-container-id-18 div.sk-text-repr-fallback {display: none;}</style><div id=\"sk-container-id-18\" class=\"sk-top-container\"><div class=\"sk-text-repr-fallback\"><pre>LogisticRegression()</pre><b>In a Jupyter environment, please rerun this cell to show the HTML representation or trust the notebook. <br />On GitHub, the HTML representation is unable to render, please try loading this page with nbviewer.org.</b></div><div class=\"sk-container\" hidden><div class=\"sk-item\"><div class=\"sk-estimator sk-toggleable\"><input class=\"sk-toggleable__control sk-hidden--visually\" id=\"sk-estimator-id-18\" type=\"checkbox\" checked><label for=\"sk-estimator-id-18\" class=\"sk-toggleable__label sk-toggleable__label-arrow\">LogisticRegression</label><div class=\"sk-toggleable__content\"><pre>LogisticRegression()</pre></div></div></div></div></div>"
      ],
      "text/plain": [
       "LogisticRegression()"
      ]
     },
     "execution_count": 296,
     "metadata": {},
     "output_type": "execute_result"
    }
   ],
   "source": [
    "logreg_simplified.fit(X_train_simplified, y_train)"
   ]
  },
  {
   "cell_type": "code",
   "execution_count": 297,
   "id": "a73c317e",
   "metadata": {},
   "outputs": [
    {
     "data": {
      "text/plain": [
       "0.7678571428571429"
      ]
     },
     "execution_count": 297,
     "metadata": {},
     "output_type": "execute_result"
    }
   ],
   "source": [
    "# The score is almost same as previous model\n",
    "logreg_simplified.score(X_train_simplified, y_train)"
   ]
  },
  {
   "cell_type": "markdown",
   "id": "2a53fa62",
   "metadata": {},
   "source": [
    "## New Scaler"
   ]
  },
  {
   "cell_type": "code",
   "execution_count": 298,
   "id": "450ec149",
   "metadata": {},
   "outputs": [
    {
     "data": {
      "text/html": [
       "<style>#sk-container-id-19 {color: black;background-color: white;}#sk-container-id-19 pre{padding: 0;}#sk-container-id-19 div.sk-toggleable {background-color: white;}#sk-container-id-19 label.sk-toggleable__label {cursor: pointer;display: block;width: 100%;margin-bottom: 0;padding: 0.3em;box-sizing: border-box;text-align: center;}#sk-container-id-19 label.sk-toggleable__label-arrow:before {content: \"▸\";float: left;margin-right: 0.25em;color: #696969;}#sk-container-id-19 label.sk-toggleable__label-arrow:hover:before {color: black;}#sk-container-id-19 div.sk-estimator:hover label.sk-toggleable__label-arrow:before {color: black;}#sk-container-id-19 div.sk-toggleable__content {max-height: 0;max-width: 0;overflow: hidden;text-align: left;background-color: #f0f8ff;}#sk-container-id-19 div.sk-toggleable__content pre {margin: 0.2em;color: black;border-radius: 0.25em;background-color: #f0f8ff;}#sk-container-id-19 input.sk-toggleable__control:checked~div.sk-toggleable__content {max-height: 200px;max-width: 100%;overflow: auto;}#sk-container-id-19 input.sk-toggleable__control:checked~label.sk-toggleable__label-arrow:before {content: \"▾\";}#sk-container-id-19 div.sk-estimator input.sk-toggleable__control:checked~label.sk-toggleable__label {background-color: #d4ebff;}#sk-container-id-19 div.sk-label input.sk-toggleable__control:checked~label.sk-toggleable__label {background-color: #d4ebff;}#sk-container-id-19 input.sk-hidden--visually {border: 0;clip: rect(1px 1px 1px 1px);clip: rect(1px, 1px, 1px, 1px);height: 1px;margin: -1px;overflow: hidden;padding: 0;position: absolute;width: 1px;}#sk-container-id-19 div.sk-estimator {font-family: monospace;background-color: #f0f8ff;border: 1px dotted black;border-radius: 0.25em;box-sizing: border-box;margin-bottom: 0.5em;}#sk-container-id-19 div.sk-estimator:hover {background-color: #d4ebff;}#sk-container-id-19 div.sk-parallel-item::after {content: \"\";width: 100%;border-bottom: 1px solid gray;flex-grow: 1;}#sk-container-id-19 div.sk-label:hover label.sk-toggleable__label {background-color: #d4ebff;}#sk-container-id-19 div.sk-serial::before {content: \"\";position: absolute;border-left: 1px solid gray;box-sizing: border-box;top: 0;bottom: 0;left: 50%;z-index: 0;}#sk-container-id-19 div.sk-serial {display: flex;flex-direction: column;align-items: center;background-color: white;padding-right: 0.2em;padding-left: 0.2em;position: relative;}#sk-container-id-19 div.sk-item {position: relative;z-index: 1;}#sk-container-id-19 div.sk-parallel {display: flex;align-items: stretch;justify-content: center;background-color: white;position: relative;}#sk-container-id-19 div.sk-item::before, #sk-container-id-19 div.sk-parallel-item::before {content: \"\";position: absolute;border-left: 1px solid gray;box-sizing: border-box;top: 0;bottom: 0;left: 50%;z-index: -1;}#sk-container-id-19 div.sk-parallel-item {display: flex;flex-direction: column;z-index: 1;position: relative;background-color: white;}#sk-container-id-19 div.sk-parallel-item:first-child::after {align-self: flex-end;width: 50%;}#sk-container-id-19 div.sk-parallel-item:last-child::after {align-self: flex-start;width: 50%;}#sk-container-id-19 div.sk-parallel-item:only-child::after {width: 0;}#sk-container-id-19 div.sk-dashed-wrapped {border: 1px dashed gray;margin: 0 0.4em 0.5em 0.4em;box-sizing: border-box;padding-bottom: 0.4em;background-color: white;}#sk-container-id-19 div.sk-label label {font-family: monospace;font-weight: bold;display: inline-block;line-height: 1.2em;}#sk-container-id-19 div.sk-label-container {text-align: center;}#sk-container-id-19 div.sk-container {/* jupyter's `normalize.less` sets `[hidden] { display: none; }` but bootstrap.min.css set `[hidden] { display: none !important; }` so we also need the `!important` here to be able to override the default hidden behavior on the sphinx rendered scikit-learn.org. See: https://github.com/scikit-learn/scikit-learn/issues/21755 */display: inline-block !important;position: relative;}#sk-container-id-19 div.sk-text-repr-fallback {display: none;}</style><div id=\"sk-container-id-19\" class=\"sk-top-container\"><div class=\"sk-text-repr-fallback\"><pre>StandardScaler()</pre><b>In a Jupyter environment, please rerun this cell to show the HTML representation or trust the notebook. <br />On GitHub, the HTML representation is unable to render, please try loading this page with nbviewer.org.</b></div><div class=\"sk-container\" hidden><div class=\"sk-item\"><div class=\"sk-estimator sk-toggleable\"><input class=\"sk-toggleable__control sk-hidden--visually\" id=\"sk-estimator-id-19\" type=\"checkbox\" checked><label for=\"sk-estimator-id-19\" class=\"sk-toggleable__label sk-toggleable__label-arrow\">StandardScaler</label><div class=\"sk-toggleable__content\"><pre>StandardScaler()</pre></div></div></div></div></div>"
      ],
      "text/plain": [
       "StandardScaler()"
      ]
     },
     "execution_count": 298,
     "metadata": {},
     "output_type": "execute_result"
    }
   ],
   "source": [
    "columns_to_scale_2 = ['Transportation Expense','Age','Children','Pets']\n",
    "scaler_new = StandardScaler()\n",
    "scaler_new.fit(df_preprocessed[columns_to_scale_2])"
   ]
  },
  {
   "cell_type": "code",
   "execution_count": 299,
   "id": "689d7797",
   "metadata": {},
   "outputs": [
    {
     "name": "stdout",
     "output_type": "stream",
     "text": [
      "Mean: [222.34714286  36.41714286   1.02142857   0.68714286]\n",
      "Variance: [4.39112663e+03 4.06345633e+01 1.23525510e+00 1.35783469e+00]\n",
      "Scale: [66.26557654  6.37452455  1.11142031  1.16526164]\n",
      "Number of samples seen: 700\n",
      "feature names: ['Transportation Expense' 'Age' 'Children' 'Pets']\n"
     ]
    }
   ],
   "source": [
    "print(\"Mean:\", scaler_new.mean_)\n",
    "print(\"Variance:\", scaler_new.var_)\n",
    "print(\"Scale:\", scaler_new.scale_)\n",
    "print(\"Number of samples seen:\", scaler_new.n_samples_seen_)\n",
    "print(\"feature names:\", scaler_new.get_feature_names_out())"
   ]
  },
  {
   "cell_type": "markdown",
   "id": "01b9985f",
   "metadata": {},
   "source": [
    "## Test our Model"
   ]
  },
  {
   "cell_type": "code",
   "execution_count": 300,
   "id": "a0fac4b2",
   "metadata": {},
   "outputs": [],
   "source": [
    "X_test_simplified =  X_test.drop(labels = columns_to_drop, axis = 1 )"
   ]
  },
  {
   "cell_type": "code",
   "execution_count": 301,
   "id": "a99b4f26",
   "metadata": {},
   "outputs": [
    {
     "data": {
      "text/html": [
       "<div>\n",
       "<style scoped>\n",
       "    .dataframe tbody tr th:only-of-type {\n",
       "        vertical-align: middle;\n",
       "    }\n",
       "\n",
       "    .dataframe tbody tr th {\n",
       "        vertical-align: top;\n",
       "    }\n",
       "\n",
       "    .dataframe thead th {\n",
       "        text-align: right;\n",
       "    }\n",
       "</style>\n",
       "<table border=\"1\" class=\"dataframe\">\n",
       "  <thead>\n",
       "    <tr style=\"text-align: right;\">\n",
       "      <th></th>\n",
       "      <th>Reason_1</th>\n",
       "      <th>Reason_2</th>\n",
       "      <th>Reason_3</th>\n",
       "      <th>Reason_4</th>\n",
       "      <th>Transportation Expense</th>\n",
       "      <th>Age</th>\n",
       "      <th>Children</th>\n",
       "      <th>Pets</th>\n",
       "    </tr>\n",
       "  </thead>\n",
       "  <tbody>\n",
       "    <tr>\n",
       "      <th>158</th>\n",
       "      <td>0</td>\n",
       "      <td>1</td>\n",
       "      <td>0</td>\n",
       "      <td>0</td>\n",
       "      <td>-0.654143</td>\n",
       "      <td>0.562059</td>\n",
       "      <td>0.880469</td>\n",
       "      <td>-0.589690</td>\n",
       "    </tr>\n",
       "    <tr>\n",
       "      <th>500</th>\n",
       "      <td>0</td>\n",
       "      <td>0</td>\n",
       "      <td>0</td>\n",
       "      <td>1</td>\n",
       "      <td>-0.654143</td>\n",
       "      <td>-1.006686</td>\n",
       "      <td>-0.919030</td>\n",
       "      <td>-0.589690</td>\n",
       "    </tr>\n",
       "    <tr>\n",
       "      <th>396</th>\n",
       "      <td>0</td>\n",
       "      <td>0</td>\n",
       "      <td>0</td>\n",
       "      <td>1</td>\n",
       "      <td>-0.654143</td>\n",
       "      <td>0.562059</td>\n",
       "      <td>0.880469</td>\n",
       "      <td>-0.589690</td>\n",
       "    </tr>\n",
       "    <tr>\n",
       "      <th>155</th>\n",
       "      <td>0</td>\n",
       "      <td>0</td>\n",
       "      <td>0</td>\n",
       "      <td>1</td>\n",
       "      <td>1.036026</td>\n",
       "      <td>-0.692937</td>\n",
       "      <td>-0.919030</td>\n",
       "      <td>-0.589690</td>\n",
       "    </tr>\n",
       "    <tr>\n",
       "      <th>321</th>\n",
       "      <td>0</td>\n",
       "      <td>0</td>\n",
       "      <td>0</td>\n",
       "      <td>1</td>\n",
       "      <td>1.036026</td>\n",
       "      <td>0.562059</td>\n",
       "      <td>-0.019280</td>\n",
       "      <td>0.268487</td>\n",
       "    </tr>\n",
       "    <tr>\n",
       "      <th>...</th>\n",
       "      <td>...</td>\n",
       "      <td>...</td>\n",
       "      <td>...</td>\n",
       "      <td>...</td>\n",
       "      <td>...</td>\n",
       "      <td>...</td>\n",
       "      <td>...</td>\n",
       "      <td>...</td>\n",
       "    </tr>\n",
       "    <tr>\n",
       "      <th>24</th>\n",
       "      <td>0</td>\n",
       "      <td>0</td>\n",
       "      <td>1</td>\n",
       "      <td>0</td>\n",
       "      <td>1.005844</td>\n",
       "      <td>-0.536062</td>\n",
       "      <td>0.880469</td>\n",
       "      <td>0.268487</td>\n",
       "    </tr>\n",
       "    <tr>\n",
       "      <th>218</th>\n",
       "      <td>1</td>\n",
       "      <td>0</td>\n",
       "      <td>0</td>\n",
       "      <td>0</td>\n",
       "      <td>-1.574681</td>\n",
       "      <td>2.130803</td>\n",
       "      <td>-0.019280</td>\n",
       "      <td>-0.589690</td>\n",
       "    </tr>\n",
       "    <tr>\n",
       "      <th>431</th>\n",
       "      <td>0</td>\n",
       "      <td>0</td>\n",
       "      <td>0</td>\n",
       "      <td>1</td>\n",
       "      <td>0.568211</td>\n",
       "      <td>-0.065439</td>\n",
       "      <td>2.679969</td>\n",
       "      <td>-0.589690</td>\n",
       "    </tr>\n",
       "    <tr>\n",
       "      <th>281</th>\n",
       "      <td>0</td>\n",
       "      <td>0</td>\n",
       "      <td>0</td>\n",
       "      <td>1</td>\n",
       "      <td>1.036026</td>\n",
       "      <td>0.562059</td>\n",
       "      <td>-0.019280</td>\n",
       "      <td>0.268487</td>\n",
       "    </tr>\n",
       "    <tr>\n",
       "      <th>110</th>\n",
       "      <td>0</td>\n",
       "      <td>0</td>\n",
       "      <td>0</td>\n",
       "      <td>1</td>\n",
       "      <td>-1.574681</td>\n",
       "      <td>0.091435</td>\n",
       "      <td>-0.919030</td>\n",
       "      <td>-0.589690</td>\n",
       "    </tr>\n",
       "  </tbody>\n",
       "</table>\n",
       "<p>140 rows × 8 columns</p>\n",
       "</div>"
      ],
      "text/plain": [
       "     Reason_1  Reason_2  Reason_3  Reason_4  Transportation Expense       Age  \\\n",
       "158         0         1         0         0               -0.654143  0.562059   \n",
       "500         0         0         0         1               -0.654143 -1.006686   \n",
       "396         0         0         0         1               -0.654143  0.562059   \n",
       "155         0         0         0         1                1.036026 -0.692937   \n",
       "321         0         0         0         1                1.036026  0.562059   \n",
       "..        ...       ...       ...       ...                     ...       ...   \n",
       "24          0         0         1         0                1.005844 -0.536062   \n",
       "218         1         0         0         0               -1.574681  2.130803   \n",
       "431         0         0         0         1                0.568211 -0.065439   \n",
       "281         0         0         0         1                1.036026  0.562059   \n",
       "110         0         0         0         1               -1.574681  0.091435   \n",
       "\n",
       "     Children      Pets  \n",
       "158  0.880469 -0.589690  \n",
       "500 -0.919030 -0.589690  \n",
       "396  0.880469 -0.589690  \n",
       "155 -0.919030 -0.589690  \n",
       "321 -0.019280  0.268487  \n",
       "..        ...       ...  \n",
       "24   0.880469  0.268487  \n",
       "218 -0.019280 -0.589690  \n",
       "431  2.679969 -0.589690  \n",
       "281 -0.019280  0.268487  \n",
       "110 -0.919030 -0.589690  \n",
       "\n",
       "[140 rows x 8 columns]"
      ]
     },
     "execution_count": 301,
     "metadata": {},
     "output_type": "execute_result"
    }
   ],
   "source": [
    "X_test_simplified"
   ]
  },
  {
   "cell_type": "code",
   "execution_count": 302,
   "id": "1a97ac7c",
   "metadata": {},
   "outputs": [],
   "source": [
    "y_pred = logreg_simplified.predict(X_test_simplified)"
   ]
  },
  {
   "cell_type": "code",
   "execution_count": 303,
   "id": "cf337566",
   "metadata": {},
   "outputs": [
    {
     "data": {
      "text/plain": [
       "array([0, 0, 0, 0, 0, 1, 0, 1, 0, 0, 0, 0, 1, 0, 0, 1, 0, 1, 0, 0, 0, 0,\n",
       "       0, 0, 0, 1, 0, 0, 0, 0, 0, 0, 1, 0, 0, 1, 0, 0, 1, 0, 1, 0, 1, 0,\n",
       "       0, 1, 1, 1, 0, 0, 0, 0, 0, 1, 0, 0, 1, 0, 1, 0, 1, 0, 0, 1, 0, 0,\n",
       "       1, 0, 0, 1, 0, 0, 1, 0, 0, 1, 0, 0, 0, 0, 1, 1, 0, 0, 0, 1, 0, 1,\n",
       "       1, 0, 0, 1, 0, 0, 0, 1, 0, 1, 1, 1, 0, 1, 0, 1, 0, 1, 1, 0, 0, 1,\n",
       "       1, 1, 0, 0, 1, 1, 0, 1, 0, 1, 0, 1, 1, 1, 1, 0, 0, 0, 1, 0, 0, 0,\n",
       "       1, 0, 0, 1, 1, 1, 0, 0], dtype=int64)"
      ]
     },
     "execution_count": 303,
     "metadata": {},
     "output_type": "execute_result"
    }
   ],
   "source": [
    "y_pred"
   ]
  },
  {
   "cell_type": "code",
   "execution_count": 304,
   "id": "0d451565",
   "metadata": {},
   "outputs": [
    {
     "name": "stdout",
     "output_type": "stream",
     "text": [
      "Accuracy: 0.7642857142857142\n"
     ]
    }
   ],
   "source": [
    "accuracy = accuracy_score(y_test, y_pred)\n",
    "print(\"Accuracy:\", accuracy)"
   ]
  },
  {
   "cell_type": "code",
   "execution_count": 305,
   "id": "2b0958d1",
   "metadata": {},
   "outputs": [],
   "source": [
    "y_pred_prob = logreg_simplified.predict_proba(X_test_simplified)"
   ]
  },
  {
   "cell_type": "code",
   "execution_count": 306,
   "id": "27467cf3",
   "metadata": {
    "scrolled": false
   },
   "outputs": [
    {
     "data": {
      "text/plain": [
       "array([[0.74353309, 0.25646691],\n",
       "       [0.77553893, 0.22446107],\n",
       "       [0.67773337, 0.32226663],\n",
       "       [0.54694491, 0.45305509],\n",
       "       [0.55402199, 0.44597801],\n",
       "       [0.11366203, 0.88633797],\n",
       "       [0.7180616 , 0.2819384 ],\n",
       "       [0.44985691, 0.55014309],\n",
       "       [0.82867968, 0.17132032],\n",
       "       [0.7967404 , 0.2032596 ],\n",
       "       [0.77553893, 0.22446107],\n",
       "       [0.67065484, 0.32934516],\n",
       "       [0.27452167, 0.72547833],\n",
       "       [0.50982214, 0.49017786],\n",
       "       [0.710005  , 0.289995  ],\n",
       "       [0.35142891, 0.64857109],\n",
       "       [0.9142034 , 0.0857966 ],\n",
       "       [0.28541589, 0.71458411],\n",
       "       [0.77553893, 0.22446107],\n",
       "       [0.55402199, 0.44597801],\n",
       "       [0.70699193, 0.29300807],\n",
       "       [0.7967404 , 0.2032596 ],\n",
       "       [0.710005  , 0.289995  ],\n",
       "       [0.67065484, 0.32934516],\n",
       "       [0.86033863, 0.13966137],\n",
       "       [0.16305301, 0.83694699],\n",
       "       [0.55402199, 0.44597801],\n",
       "       [0.68971343, 0.31028657],\n",
       "       [0.7967404 , 0.2032596 ],\n",
       "       [0.55402199, 0.44597801],\n",
       "       [0.87436939, 0.12563061],\n",
       "       [0.87436939, 0.12563061],\n",
       "       [0.44985691, 0.55014309],\n",
       "       [0.50982214, 0.49017786],\n",
       "       [0.710005  , 0.289995  ],\n",
       "       [0.2480116 , 0.7519884 ],\n",
       "       [0.710005  , 0.289995  ],\n",
       "       [0.87436939, 0.12563061],\n",
       "       [0.17321007, 0.82678993],\n",
       "       [0.75844695, 0.24155305],\n",
       "       [0.35142891, 0.64857109],\n",
       "       [0.7967404 , 0.2032596 ],\n",
       "       [0.44985691, 0.55014309],\n",
       "       [0.77553893, 0.22446107],\n",
       "       [0.7967404 , 0.2032596 ],\n",
       "       [0.2774368 , 0.7225632 ],\n",
       "       [0.25057756, 0.74942244],\n",
       "       [0.21817214, 0.78182786],\n",
       "       [0.710005  , 0.289995  ],\n",
       "       [0.77553893, 0.22446107],\n",
       "       [0.7967404 , 0.2032596 ],\n",
       "       [0.710005  , 0.289995  ],\n",
       "       [0.55402199, 0.44597801],\n",
       "       [0.06850729, 0.93149271],\n",
       "       [0.87436939, 0.12563061],\n",
       "       [0.7967404 , 0.2032596 ],\n",
       "       [0.03180945, 0.96819055],\n",
       "       [0.710005  , 0.289995  ],\n",
       "       [0.11894011, 0.88105989],\n",
       "       [0.74094916, 0.25905084],\n",
       "       [0.45308738, 0.54691262],\n",
       "       [0.87436939, 0.12563061],\n",
       "       [0.64020866, 0.35979134],\n",
       "       [0.44985691, 0.55014309],\n",
       "       [0.77553893, 0.22446107],\n",
       "       [0.68971343, 0.31028657],\n",
       "       [0.3807007 , 0.6192993 ],\n",
       "       [0.94364793, 0.05635207],\n",
       "       [0.710005  , 0.289995  ],\n",
       "       [0.49137218, 0.50862782],\n",
       "       [0.7967404 , 0.2032596 ],\n",
       "       [0.7967404 , 0.2032596 ],\n",
       "       [0.25215316, 0.74784684],\n",
       "       [0.710005  , 0.289995  ],\n",
       "       [0.86033863, 0.13966137],\n",
       "       [0.2480116 , 0.7519884 ],\n",
       "       [0.55402199, 0.44597801],\n",
       "       [0.7967404 , 0.2032596 ],\n",
       "       [0.710005  , 0.289995  ],\n",
       "       [0.5604037 , 0.4395963 ],\n",
       "       [0.11366203, 0.88633797],\n",
       "       [0.10865825, 0.89134175],\n",
       "       [0.87436939, 0.12563061],\n",
       "       [0.7967404 , 0.2032596 ],\n",
       "       [0.87436939, 0.12563061],\n",
       "       [0.25364544, 0.74635456],\n",
       "       [0.7967404 , 0.2032596 ],\n",
       "       [0.14023657, 0.85976343],\n",
       "       [0.34866835, 0.65133165],\n",
       "       [0.710005  , 0.289995  ],\n",
       "       [0.67773337, 0.32226663],\n",
       "       [0.4873063 , 0.5126937 ],\n",
       "       [0.70699193, 0.29300807],\n",
       "       [0.710005  , 0.289995  ],\n",
       "       [0.60254065, 0.39745935],\n",
       "       [0.17321007, 0.82678993],\n",
       "       [0.52187026, 0.47812974],\n",
       "       [0.10045389, 0.89954611],\n",
       "       [0.32994444, 0.67005556],\n",
       "       [0.27452167, 0.72547833],\n",
       "       [0.68253767, 0.31746233],\n",
       "       [0.2480116 , 0.7519884 ],\n",
       "       [0.7967404 , 0.2032596 ],\n",
       "       [0.27452167, 0.72547833],\n",
       "       [0.77553893, 0.22446107],\n",
       "       [0.44985691, 0.55014309],\n",
       "       [0.16305301, 0.83694699],\n",
       "       [0.75844695, 0.24155305],\n",
       "       [0.86033863, 0.13966137],\n",
       "       [0.31924837, 0.68075163],\n",
       "       [0.44985691, 0.55014309],\n",
       "       [0.31924837, 0.68075163],\n",
       "       [0.50982214, 0.49017786],\n",
       "       [0.67065484, 0.32934516],\n",
       "       [0.2774368 , 0.7225632 ],\n",
       "       [0.35142891, 0.64857109],\n",
       "       [0.67065484, 0.32934516],\n",
       "       [0.11366203, 0.88633797],\n",
       "       [0.60254065, 0.39745935],\n",
       "       [0.08961251, 0.91038749],\n",
       "       [0.7967404 , 0.2032596 ],\n",
       "       [0.24205024, 0.75794976],\n",
       "       [0.25057756, 0.74942244],\n",
       "       [0.2774368 , 0.7225632 ],\n",
       "       [0.24205024, 0.75794976],\n",
       "       [0.73013291, 0.26986709],\n",
       "       [0.7967404 , 0.2032596 ],\n",
       "       [0.68253767, 0.31746233],\n",
       "       [0.3807007 , 0.6192993 ],\n",
       "       [0.87436939, 0.12563061],\n",
       "       [0.710005  , 0.289995  ],\n",
       "       [0.74353309, 0.25646691],\n",
       "       [0.25057756, 0.74942244],\n",
       "       [0.52187026, 0.47812974],\n",
       "       [0.710005  , 0.289995  ],\n",
       "       [0.10045389, 0.89954611],\n",
       "       [0.49137218, 0.50862782],\n",
       "       [0.31924837, 0.68075163],\n",
       "       [0.55402199, 0.44597801],\n",
       "       [0.87436939, 0.12563061]])"
      ]
     },
     "execution_count": 306,
     "metadata": {},
     "output_type": "execute_result"
    }
   ],
   "source": [
    "y_pred_prob"
   ]
  },
  {
   "cell_type": "markdown",
   "id": "febb2f7f",
   "metadata": {},
   "source": [
    "## Save the model"
   ]
  },
  {
   "cell_type": "code",
   "execution_count": 307,
   "id": "01fe8367",
   "metadata": {},
   "outputs": [],
   "source": [
    "import pickle"
   ]
  },
  {
   "cell_type": "code",
   "execution_count": 308,
   "id": "f9269f38",
   "metadata": {},
   "outputs": [],
   "source": [
    "with open('model', 'wb') as file:\n",
    "    pickle.dump(logreg_simplified, file)"
   ]
  },
  {
   "cell_type": "code",
   "execution_count": 309,
   "id": "0edf110a",
   "metadata": {},
   "outputs": [],
   "source": [
    "with open('scaler','wb') as file:\n",
    "    pickle.dump(scaler_new, file)"
   ]
  },
  {
   "cell_type": "code",
   "execution_count": null,
   "id": "7dbbd590",
   "metadata": {},
   "outputs": [],
   "source": []
  }
 ],
 "metadata": {
  "kernelspec": {
   "display_name": "Python 3 (ipykernel)",
   "language": "python",
   "name": "python3"
  },
  "language_info": {
   "codemirror_mode": {
    "name": "ipython",
    "version": 3
   },
   "file_extension": ".py",
   "mimetype": "text/x-python",
   "name": "python",
   "nbconvert_exporter": "python",
   "pygments_lexer": "ipython3",
   "version": "3.10.9"
  }
 },
 "nbformat": 4,
 "nbformat_minor": 5
}
